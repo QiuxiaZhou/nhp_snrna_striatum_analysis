{
 "cells": [
  {
   "cell_type": "code",
   "execution_count": 1,
   "metadata": {},
   "outputs": [],
   "source": [
    "import feather\n",
    "import numpy as np\n",
    "import pandas as pd\n",
    "import csv"
   ]
  },
  {
   "cell_type": "code",
   "execution_count": 39,
   "metadata": {},
   "outputs": [],
   "source": [
    "caudate_path = \"/pylon5/mc5pijp/mkleyman/data/fiona_rhemac10/processed/caudate/caudate_cells.feather\"\n",
    "caudate_df = feather.read_dataframe(caudate_path)"
   ]
  },
  {
   "cell_type": "code",
   "execution_count": 40,
   "metadata": {},
   "outputs": [],
   "source": [
    "genes_df = pd.read_csv(\"/pylon5/mc5pijp/mkleyman/data/fiona_rhemac10/caudate/L1/Solo.out/genes.tsv\",sep=\"\\t\",header=None)"
   ]
  },
  {
   "cell_type": "code",
   "execution_count": 41,
   "metadata": {},
   "outputs": [],
   "source": [
    "putamen_path = \"/pylon5/mc5pijp/mkleyman/data/fiona_rhemac10/processed/putamen/putamen_cells.feather\"\n",
    "putamen_df = feather.read_dataframe(putamen_path)"
   ]
  },
  {
   "cell_type": "code",
   "execution_count": 42,
   "metadata": {},
   "outputs": [],
   "source": [
    "caudate_annot_path = \"/pylon5/mc5pijp/mkleyman/data/fiona_rhemac10/processed/caudate/caudate_annotation.feather\"\n",
    "caudate_annot = feather.read_dataframe(caudate_annot_path)"
   ]
  },
  {
   "cell_type": "code",
   "execution_count": 43,
   "metadata": {},
   "outputs": [],
   "source": [
    "putamen_annot_path = \"/pylon5/mc5pijp/mkleyman/data/fiona_rhemac10/processed/putamen/putamen_annotation.feather\"\n",
    "putmaen_annot = feather.read_dataframe(caudate_annot_path)"
   ]
  },
  {
   "cell_type": "code",
   "execution_count": null,
   "metadata": {},
   "outputs": [],
   "source": []
  },
  {
   "cell_type": "code",
   "execution_count": 44,
   "metadata": {},
   "outputs": [],
   "source": [
    "nacc_path = \"/pylon5/mc5pijp/mkleyman/data/fiona_rhemac10/processed/nacc/nacc_cells.feather\"\n",
    "nacc_df = feather.read_dataframe(nacc_path)"
   ]
  },
  {
   "cell_type": "code",
   "execution_count": 47,
   "metadata": {},
   "outputs": [],
   "source": [
    "nacc_annot_path = \"/pylon5/mc5pijp/mkleyman/data/fiona_rhemac10/processed/nacc/nacc_annotation.feather\"\n",
    "nacc_annot = feather.read_dataframe(nacc_annot_path)"
   ]
  },
  {
   "cell_type": "code",
   "execution_count": 50,
   "metadata": {},
   "outputs": [],
   "source": [
    "full_df = pd.concat([caudate_df,putamen_df,nacc_df],axis=1).transpose()"
   ]
  },
  {
   "cell_type": "code",
   "execution_count": 49,
   "metadata": {},
   "outputs": [],
   "source": [
    "full_annotations = pd.concat([caudate_annot,putamen_annot,nacc_annot])"
   ]
  },
  {
   "cell_type": "code",
   "execution_count": 38,
   "metadata": {},
   "outputs": [
    {
     "data": {
      "text/plain": [
       "(54894, 4211)"
      ]
     },
     "execution_count": 38,
     "metadata": {},
     "output_type": "execute_result"
    }
   ],
   "source": [
    "full_annotations.shape"
   ]
  },
  {
   "cell_type": "code",
   "execution_count": 48,
   "metadata": {},
   "outputs": [
    {
     "name": "stdout",
     "output_type": "stream",
     "text": [
      "(54894, 2182)\n",
      "(2182, 4)\n",
      "(54894, 2315)\n",
      "(2315, 4)\n",
      "(54894, 4203)\n",
      "(4203, 4)\n"
     ]
    }
   ],
   "source": [
    "print(caudate_df.shape)\n",
    "print(caudate_annot.shape)\n",
    "print(putamen_df.shape)\n",
    "print(putamen_annot.shape)\n",
    "print(nacc_df.shape)\n",
    "print(nacc_annot.shape)"
   ]
  },
  {
   "cell_type": "code",
   "execution_count": 51,
   "metadata": {},
   "outputs": [
    {
     "data": {
      "text/plain": [
       "(8700, 54894)"
      ]
     },
     "execution_count": 51,
     "metadata": {},
     "output_type": "execute_result"
    }
   ],
   "source": [
    "full_df.shape"
   ]
  },
  {
   "cell_type": "code",
   "execution_count": 53,
   "metadata": {},
   "outputs": [
    {
     "data": {
      "text/plain": [
       "(8700, 4)"
      ]
     },
     "execution_count": 53,
     "metadata": {},
     "output_type": "execute_result"
    }
   ],
   "source": [
    "full_annotations.shape"
   ]
  },
  {
   "cell_type": "code",
   "execution_count": 55,
   "metadata": {},
   "outputs": [],
   "source": [
    "full_df.columns = genes_df.loc[:,1].values"
   ]
  },
  {
   "cell_type": "code",
   "execution_count": 58,
   "metadata": {},
   "outputs": [],
   "source": [
    "full_annotations[\"full_id\"] = full_annotations[\"region\"]+\"_\"+full_annotations[\"cell_id\"]"
   ]
  },
  {
   "cell_type": "code",
   "execution_count": 76,
   "metadata": {},
   "outputs": [],
   "source": [
    "full_path = '/pylon5/mc5pijp/mkleyman/data/fiona_rhemac10/processed/full/all_cells.feather'\n",
    "feather.write_dataframe(full_df_clean,full_path)"
   ]
  },
  {
   "cell_type": "code",
   "execution_count": 77,
   "metadata": {},
   "outputs": [],
   "source": [
    "annot_path = \"/pylon5/mc5pijp/mkleyman/data/fiona_rhemac10/processed/full/all_cells_annotation.feather\"\n",
    "feather.write_dataframe(full_annotations,annot_path)"
   ]
  },
  {
   "cell_type": "code",
   "execution_count": 75,
   "metadata": {},
   "outputs": [
    {
     "data": {
      "text/plain": [
       "(8700, 53573)"
      ]
     },
     "execution_count": 75,
     "metadata": {},
     "output_type": "execute_result"
    }
   ],
   "source": [
    "full_df_clean.shape"
   ]
  },
  {
   "cell_type": "code",
   "execution_count": null,
   "metadata": {},
   "outputs": [],
   "source": []
  }
 ],
 "metadata": {
  "kernelspec": {
   "display_name": "Python 3",
   "language": "python",
   "name": "python3"
  },
  "language_info": {
   "codemirror_mode": {
    "name": "ipython",
    "version": 3
   },
   "file_extension": ".py",
   "mimetype": "text/x-python",
   "name": "python",
   "nbconvert_exporter": "python",
   "pygments_lexer": "ipython3",
   "version": "3.7.3"
  }
 },
 "nbformat": 4,
 "nbformat_minor": 2
}
