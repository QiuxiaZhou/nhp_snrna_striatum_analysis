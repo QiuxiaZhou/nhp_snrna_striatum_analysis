{
 "cells": [
  {
   "cell_type": "code",
   "execution_count": 29,
   "metadata": {},
   "outputs": [],
   "source": [
    "library(feather)\n",
    "library(scran)\n"
   ]
  },
  {
   "cell_type": "code",
   "execution_count": 30,
   "metadata": {},
   "outputs": [],
   "source": [
    "qc_cells_path = '/pylon5/mc5pijp/mkleyman/data/fiona_rhemac10/processed/full/qc_cells.feather'\n",
    "qc_annot_path =  '/pylon5/mc5pijp/mkleyman/data/fiona_rhemac10/processed/full/qc_annot_4.feather'\n"
   ]
  },
  {
   "cell_type": "code",
   "execution_count": 31,
   "metadata": {},
   "outputs": [],
   "source": [
    "qc_cells = read_feather(qc_cells_path)\n",
    "qc_annot = read_feather(qc_annot_path)"
   ]
  },
  {
   "cell_type": "code",
   "execution_count": 32,
   "metadata": {},
   "outputs": [],
   "source": [
    "sce_qc = SingleCellExperiment(list(counts=t(as.matrix(qc_cells))))"
   ]
  },
  {
   "cell_type": "code",
   "execution_count": 33,
   "metadata": {},
   "outputs": [],
   "source": [
    "sce_qc = computeSumFactors(sce_qc, clusters=qc_annot$pre_cluster)"
   ]
  },
  {
   "cell_type": "code",
   "execution_count": 34,
   "metadata": {},
   "outputs": [],
   "source": [
    "sce_qc = normalize(sce_qc)"
   ]
  },
  {
   "cell_type": "code",
   "execution_count": 35,
   "metadata": {},
   "outputs": [],
   "source": [
    "qc_annot[\"size_factor\"] = sizeFactors(sce_qc)"
   ]
  },
  {
   "cell_type": "code",
   "execution_count": 36,
   "metadata": {},
   "outputs": [],
   "source": [
    "normalized_logcounts = as.matrix(sce_qc@assays[[2]])\n"
   ]
  },
  {
   "cell_type": "code",
   "execution_count": 37,
   "metadata": {},
   "outputs": [
    {
     "data": {
      "text/html": [
       "<ol class=list-inline>\n",
       "\t<li>53573</li>\n",
       "\t<li>7054</li>\n",
       "</ol>\n"
      ],
      "text/latex": [
       "\\begin{enumerate*}\n",
       "\\item 53573\n",
       "\\item 7054\n",
       "\\end{enumerate*}\n"
      ],
      "text/markdown": [
       "1. 53573\n",
       "2. 7054\n",
       "\n",
       "\n"
      ],
      "text/plain": [
       "[1] 53573  7054"
      ]
     },
     "metadata": {},
     "output_type": "display_data"
    }
   ],
   "source": [
    "dim(normalized_logcounts)"
   ]
  },
  {
   "cell_type": "code",
   "execution_count": 38,
   "metadata": {},
   "outputs": [],
   "source": [
    "normalized_df = as.data.frame(t(normalized_logcounts))"
   ]
  },
  {
   "cell_type": "code",
   "execution_count": 39,
   "metadata": {},
   "outputs": [],
   "source": [
    "colnames(normalized_df)= colnames(qc_cells)"
   ]
  },
  {
   "cell_type": "code",
   "execution_count": 40,
   "metadata": {},
   "outputs": [],
   "source": [
    "norm_cells_path = '/pylon5/mc5pijp/mkleyman/data/fiona_rhemac10/processed/full/scran_qc_cells_4.feather'\n",
    "write_feather(normalized_df,norm_cells_path)"
   ]
  },
  {
   "cell_type": "code",
   "execution_count": 41,
   "metadata": {},
   "outputs": [],
   "source": [
    "norm_annot_path = '/pylon5/mc5pijp/mkleyman/data/fiona_rhemac10/processed/full/scran_qc_annot_4.feather'\n",
    "write_feather(qc_annot,norm_annot_path)"
   ]
  },
  {
   "cell_type": "code",
   "execution_count": 19,
   "metadata": {},
   "outputs": [],
   "source": [
    "source(\"https://raw.githubusercontent.com/KlugerLab/ALRA/master/alra.R\")\n"
   ]
  },
  {
   "cell_type": "code",
   "execution_count": 20,
   "metadata": {},
   "outputs": [
    {
     "name": "stdout",
     "output_type": "stream",
     "text": [
      "Read matrix with 7054 cells and 53573 genes\n",
      "Chose k=48\n",
      "Getting nonzeros\n",
      "Randomized SVD\n",
      "Find the 0.001000 quantile of each gene\n",
      "Sweep\n",
      "Scaling all except for 20483 columns\n",
      "0.02% of the values became negative in the scaling process and were set to zero\n",
      "The matrix went from 8.55% nonzero to 30.22% nonzero\n"
     ]
    }
   ],
   "source": [
    "result.completed <- alra(t(normalized_logcounts))\n",
    "A_norm_completed <- result.completed[[3]]\n",
    "imputed_counts = data.frame(A_norm_completed)"
   ]
  },
  {
   "cell_type": "code",
   "execution_count": 23,
   "metadata": {},
   "outputs": [],
   "source": [
    "colnames(imputed_counts) = colnames(qc_cells)"
   ]
  },
  {
   "cell_type": "code",
   "execution_count": 24,
   "metadata": {},
   "outputs": [],
   "source": [
    "alra_cells_path = '/pylon5/mc5pijp/mkleyman/data/fiona_rhemac10/processed/full/alra_scran_qc_cells.feather'\n",
    "write_feather(imputed_counts,alra_cells_path)"
   ]
  },
  {
   "cell_type": "code",
   "execution_count": null,
   "metadata": {},
   "outputs": [],
   "source": []
  }
 ],
 "metadata": {
  "kernelspec": {
   "display_name": "R",
   "language": "R",
   "name": "ir"
  },
  "language_info": {
   "codemirror_mode": "r",
   "file_extension": ".r",
   "mimetype": "text/x-r-source",
   "name": "R",
   "pygments_lexer": "r",
   "version": "3.6.0"
  }
 },
 "nbformat": 4,
 "nbformat_minor": 2
}
