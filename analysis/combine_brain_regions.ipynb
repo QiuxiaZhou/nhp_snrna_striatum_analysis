{
 "cells": [
  {
   "cell_type": "code",
   "execution_count": 1,
   "metadata": {},
   "outputs": [],
   "source": [
    "import feather\n",
    "import numpy as np\n",
    "import pandas as pd\n",
    "import csv"
   ]
  },
  {
   "cell_type": "code",
   "execution_count": 2,
   "metadata": {},
   "outputs": [],
   "source": [
    "#read in caudate gene expression and annoation files\n",
    "caudate_annotation_file = \"../data/processed/caudate_cells_annotation.csv\"\n",
    "caudate_exp_file = \"../data/processed/caudate_cells.feather\"\n",
    "caudate_annot = pd.read_csv(caudate_annotation_file)\n",
    "caudate_df = feather.read_dataframe(caudate_exp_file)"
   ]
  },
  {
   "cell_type": "code",
   "execution_count": 3,
   "metadata": {},
   "outputs": [],
   "source": [
    "#read in putamen gene expression and annoation files\n",
    "putamen_annotation_file = \"../data/processed/putamen_cells_annotation.csv\"\n",
    "putamen_exp_file = \"../data/processed/putamen_cells.feather\"\n",
    "putamen_annot = pd.read_csv(putamen_annotation_file)\n",
    "putamen_df = feather.read_dataframe(putamen_exp_file)"
   ]
  },
  {
   "cell_type": "code",
   "execution_count": 4,
   "metadata": {},
   "outputs": [],
   "source": [
    "#read in nacc gene expression and annoation files\n",
    "nacc_annotation_file = \"../data/processed/nacc_cells_annotation.csv\"\n",
    "nacc_exp_file = \"../data/processed/nacc_cells.feather\"\n",
    "nacc_annot = pd.read_csv(nacc_annotation_file)\n",
    "nacc_df = feather.read_dataframe(nacc_exp_file)"
   ]
  },
  {
   "cell_type": "code",
   "execution_count": 5,
   "metadata": {},
   "outputs": [],
   "source": [
    "#create combined expression matrix\n",
    "full_df = pd.concat([caudate_df,putamen_df,nacc_df],axis=1).transpose()\n"
   ]
  },
  {
   "cell_type": "code",
   "execution_count": 6,
   "metadata": {},
   "outputs": [],
   "source": [
    "#create combined annoation matrix\n",
    "full_annotations = pd.concat([caudate_annot,putamen_annot,nacc_annot])\n"
   ]
  },
  {
   "cell_type": "code",
   "execution_count": 7,
   "metadata": {},
   "outputs": [],
   "source": [
    "#read in gene name annoations and add them as columns to the gene expression matrix\n",
    "#to read in esemble id annoations use the index 1 instead 0\n",
    "genes_df = pd.read_csv(\"../data/raw/caudate/L1/Solo.out/genes.tsv\",sep=\"\\t\",header=None)\n",
    "full_df.columns = genes_df.loc[:,1].values\n"
   ]
  },
  {
   "cell_type": "code",
   "execution_count": 8,
   "metadata": {},
   "outputs": [],
   "source": [
    "#sum across genes with the same symbol\n",
    "#Don't do this if you are using ensemble IDs as they should already be unique\n",
    "full_df_gene = full_df.groupby(axis=1, level=0).sum()\n"
   ]
  },
  {
   "cell_type": "code",
   "execution_count": 9,
   "metadata": {},
   "outputs": [],
   "source": [
    "#create a unique id for each cell that has the brain region and 10x barcode tag\n",
    "full_annotations[\"full_id\"] = full_annotations[\"region\"]+\"_\"+full_annotations[\"cell_id\"]\n"
   ]
  },
  {
   "cell_type": "code",
   "execution_count": 10,
   "metadata": {},
   "outputs": [],
   "source": [
    "#write the full expression matrix to feather file\n",
    "full_path = '../data/processed/all_cells.feather'\n",
    "feather.write_dataframe(full_df_gene,full_path)"
   ]
  },
  {
   "cell_type": "code",
   "execution_count": 11,
   "metadata": {},
   "outputs": [],
   "source": [
    "annot_path = \"../data/processed/all_cells_annotation.csv\"\n",
    "full_annotations.to_csv(annot_path)"
   ]
  },
  {
   "cell_type": "code",
   "execution_count": null,
   "metadata": {},
   "outputs": [],
   "source": []
  }
 ],
 "metadata": {
  "kernelspec": {
   "display_name": "Python 3",
   "language": "python",
   "name": "python3"
  },
  "language_info": {
   "codemirror_mode": {
    "name": "ipython",
    "version": 3
   },
   "file_extension": ".py",
   "mimetype": "text/x-python",
   "name": "python",
   "nbconvert_exporter": "python",
   "pygments_lexer": "ipython3",
   "version": "3.7.4"
  }
 },
 "nbformat": 4,
 "nbformat_minor": 2
}
