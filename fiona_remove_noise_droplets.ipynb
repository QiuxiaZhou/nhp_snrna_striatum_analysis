{
 "cells": [
  {
   "cell_type": "code",
   "execution_count": 1,
   "metadata": {},
   "outputs": [
    {
     "name": "stderr",
     "output_type": "stream",
     "text": [
      "Loading required package: SingleCellExperiment\n",
      "Loading required package: SummarizedExperiment\n",
      "Loading required package: GenomicRanges\n",
      "Loading required package: stats4\n",
      "Loading required package: BiocGenerics\n",
      "Loading required package: parallel\n",
      "\n",
      "Attaching package: ‘BiocGenerics’\n",
      "\n",
      "The following objects are masked from ‘package:parallel’:\n",
      "\n",
      "    clusterApply, clusterApplyLB, clusterCall, clusterEvalQ,\n",
      "    clusterExport, clusterMap, parApply, parCapply, parLapply,\n",
      "    parLapplyLB, parRapply, parSapply, parSapplyLB\n",
      "\n",
      "The following objects are masked from ‘package:stats’:\n",
      "\n",
      "    IQR, mad, sd, var, xtabs\n",
      "\n",
      "The following objects are masked from ‘package:base’:\n",
      "\n",
      "    anyDuplicated, append, as.data.frame, basename, cbind, colnames,\n",
      "    dirname, do.call, duplicated, eval, evalq, Filter, Find, get, grep,\n",
      "    grepl, intersect, is.unsorted, lapply, Map, mapply, match, mget,\n",
      "    order, paste, pmax, pmax.int, pmin, pmin.int, Position, rank,\n",
      "    rbind, Reduce, rownames, sapply, setdiff, sort, table, tapply,\n",
      "    union, unique, unsplit, which, which.max, which.min\n",
      "\n",
      "Loading required package: S4Vectors\n",
      "\n",
      "Attaching package: ‘S4Vectors’\n",
      "\n",
      "The following object is masked from ‘package:base’:\n",
      "\n",
      "    expand.grid\n",
      "\n",
      "Loading required package: IRanges\n",
      "Loading required package: GenomeInfoDb\n",
      "Loading required package: Biobase\n",
      "Welcome to Bioconductor\n",
      "\n",
      "    Vignettes contain introductory material; view with\n",
      "    'browseVignettes()'. To cite Bioconductor, see\n",
      "    'citation(\"Biobase\")', and for packages 'citation(\"pkgname\")'.\n",
      "\n",
      "Loading required package: DelayedArray\n",
      "Loading required package: matrixStats\n",
      "\n",
      "Attaching package: ‘matrixStats’\n",
      "\n",
      "The following objects are masked from ‘package:Biobase’:\n",
      "\n",
      "    anyMissing, rowMedians\n",
      "\n",
      "Loading required package: BiocParallel\n",
      "\n",
      "Attaching package: ‘DelayedArray’\n",
      "\n",
      "The following objects are masked from ‘package:matrixStats’:\n",
      "\n",
      "    colMaxs, colMins, colRanges, rowMaxs, rowMins, rowRanges\n",
      "\n",
      "The following objects are masked from ‘package:base’:\n",
      "\n",
      "    aperm, apply, rowsum\n",
      "\n",
      "Registered S3 method overwritten by 'R.oo':\n",
      "  method        from       \n",
      "  throw.default R.methodsS3\n"
     ]
    }
   ],
   "source": [
    "#load libraries\n",
    "library(DropletUtils)\n",
    "library(scds)\n",
    "library(feather)"
   ]
  },
  {
   "cell_type": "code",
   "execution_count": 2,
   "metadata": {},
   "outputs": [],
   "source": [
    "#read in data\n",
    "caudate_1 <- read10xCounts(\"/pylon5/mc5pijp/mkleyman/data/fiona_rhemac10/caudate/L1/Solo.out/\")\n",
    "caudate_2 <- read10xCounts(\"/pylon5/mc5pijp/mkleyman/data/fiona_rhemac10/caudate/L2/Solo.out/\")\n",
    "caudate_3 <- read10xCounts(\"/pylon5/mc5pijp/mkleyman/data/fiona_rhemac10/caudate/L3/Solo.out/\")\n",
    "caudate_4 <- read10xCounts(\"/pylon5/mc5pijp/mkleyman/data/fiona_rhemac10/caudate/L4/Solo.out/\")"
   ]
  },
  {
   "cell_type": "code",
   "execution_count": 3,
   "metadata": {},
   "outputs": [],
   "source": [
    "#combine lanes\n",
    "caudate_all <- counts(caudate_1)+counts(caudate_2)+counts(caudate_3)+counts(caudate_4)"
   ]
  },
  {
   "cell_type": "code",
   "execution_count": 5,
   "metadata": {},
   "outputs": [],
   "source": [
    "#determine which droplets are emtpy\n",
    "caudate_called <- emptyDrops(caudate_all)"
   ]
  },
  {
   "cell_type": "code",
   "execution_count": 7,
   "metadata": {},
   "outputs": [],
   "source": [
    "#remove empty droplets\n",
    "caudate_cells <- caudate_all[, caudate_called]"
   ]
  },
  {
   "cell_type": "code",
   "execution_count": 8,
   "metadata": {},
   "outputs": [],
   "source": []
  },
  {
   "cell_type": "code",
   "execution_count": 9,
   "metadata": {},
   "outputs": [],
   "source": []
  },
  {
   "cell_type": "code",
   "execution_count": 8,
   "metadata": {},
   "outputs": [],
   "source": [
    "sce_caudate <- SingleCellExperiment(list(counts=caudate_cells))"
   ]
  },
  {
   "cell_type": "code",
   "execution_count": 10,
   "metadata": {},
   "outputs": [
    {
     "name": "stdout",
     "output_type": "stream",
     "text": [
      "[1]\ttrain-error:0.092002+0.003608\ttest-error:0.130170+0.012447 \n",
      "Multiple eval metrics are present. Will use test_error for early stopping.\n",
      "Will train until test_error hasn't improved in 2 rounds.\n",
      "\n",
      "[2]\ttrain-error:0.080717+0.003824\ttest-error:0.114120+0.009251 \n",
      "[3]\ttrain-error:0.069030+0.002539\ttest-error:0.111825+0.010509 \n",
      "[4]\ttrain-error:0.062614+0.003498\ttest-error:0.105636+0.016903 \n",
      "[5]\ttrain-error:0.058260+0.002599\ttest-error:0.100600+0.015230 \n",
      "[6]\ttrain-error:0.051844+0.003465\ttest-error:0.098998+0.014151 \n",
      "[7]\ttrain-error:0.049896+0.002569\ttest-error:0.096013+0.011477 \n",
      "[8]\ttrain-error:0.047548+0.002835\ttest-error:0.096012+0.011717 \n",
      "[9]\ttrain-error:0.044110+0.001737\ttest-error:0.094866+0.010128 \n",
      "[10]\ttrain-error:0.041704+0.002894\ttest-error:0.092112+0.011058 \n",
      "[11]\ttrain-error:0.039241+0.002796\ttest-error:0.090740+0.012232 \n",
      "[12]\ttrain-error:0.036549+0.002125\ttest-error:0.090506+0.014255 \n",
      "[13]\ttrain-error:0.035116+0.002426\ttest-error:0.090503+0.011874 \n",
      "[14]\ttrain-error:0.030820+0.001524\ttest-error:0.092109+0.012670 \n",
      "[15]\ttrain-error:0.028414+0.002031\ttest-error:0.092111+0.010486 \n",
      "Stopping. Best iteration:\n",
      "[13]\ttrain-error:0.035116+0.002426\ttest-error:0.090503+0.011874\n",
      "\n",
      "[1]\ttrain-error:0.096013 \n",
      "Will train until train_error hasn't improved in 2 rounds.\n",
      "\n",
      "[2]\ttrain-error:0.086159 \n",
      "[3]\ttrain-error:0.074931 \n",
      "[4]\ttrain-error:0.063932 \n",
      "[5]\ttrain-error:0.057974 \n"
     ]
    }
   ],
   "source": [
    "sce_caudate <- cxds_bcds_hybrid(sce_caudate)"
   ]
  },
  {
   "cell_type": "code",
   "execution_count": 14,
   "metadata": {},
   "outputs": [],
   "source": [
    "caudate_numis = colSums(caudate_cells)"
   ]
  },
  {
   "cell_type": "code",
   "execution_count": 16,
   "metadata": {},
   "outputs": [],
   "source": [
    "caudate_annotation =  data.frame(\"cell_id\"=caudate_1@colData@listData$Barcode[caudate_called],\"nUMIs\"=caudate_numis,\"doublet_score\"=colData(sce_caudate)$hybrid_score)"
   ]
  },
  {
   "cell_type": "code",
   "execution_count": 17,
   "metadata": {},
   "outputs": [],
   "source": [
    "caudate_annotation$region = rep(\"caudate\",nrow(caudate_annotation))"
   ]
  },
  {
   "cell_type": "code",
   "execution_count": 18,
   "metadata": {},
   "outputs": [],
   "source": [
    "caudate_df = as.data.frame(as.matrix(caudate_cells))"
   ]
  },
  {
   "cell_type": "code",
   "execution_count": 21,
   "metadata": {},
   "outputs": [],
   "source": [
    "colnames(caudate_df)<- caudate_1@colData@listData$Barcode[caudate_called]"
   ]
  },
  {
   "cell_type": "code",
   "execution_count": 57,
   "metadata": {},
   "outputs": [],
   "source": [
    "caudate_path = \"/pylon5/mc5pijp/mkleyman/data/fiona_rhemac10/processed/caudate/caudate_cells.feather\"\n",
    "write_feather(caudate_df,caudate_path)"
   ]
  },
  {
   "cell_type": "code",
   "execution_count": 58,
   "metadata": {},
   "outputs": [],
   "source": [
    "caudate_annot_path = \"/pylon5/mc5pijp/mkleyman/data/fiona_rhemac10/processed/caudate/caudate_annotation.feather\"\n",
    "write_feather(caudate_annotation,caudate_annot_path)"
   ]
  },
  {
   "cell_type": "code",
   "execution_count": 11,
   "metadata": {},
   "outputs": [],
   "source": [
    "putamen_1 <- read10xCounts(\"/pylon5/mc5pijp/mkleyman/data/fiona_rhemac10/putamen/L1/Solo.out/\")\n",
    "putamen_2 <- read10xCounts(\"/pylon5/mc5pijp/mkleyman/data/fiona_rhemac10/putamen/L2/Solo.out/\")\n",
    "putamen_3 <- read10xCounts(\"/pylon5/mc5pijp/mkleyman/data/fiona_rhemac10/putamen/L3/Solo.out/\")\n",
    "putamen_4 <- read10xCounts(\"/pylon5/mc5pijp/mkleyman/data/fiona_rhemac10/putamen/L4/Solo.out/\")"
   ]
  },
  {
   "cell_type": "code",
   "execution_count": 12,
   "metadata": {},
   "outputs": [],
   "source": [
    "putamen_all <- counts(putamen_1)+counts(putamen_2)+counts(putamen_3)+counts(putamen_4)"
   ]
  },
  {
   "cell_type": "code",
   "execution_count": 13,
   "metadata": {},
   "outputs": [],
   "source": [
    "putamen_called <- defaultDrops(putamen_all)"
   ]
  },
  {
   "cell_type": "code",
   "execution_count": 28,
   "metadata": {},
   "outputs": [],
   "source": [
    "putamen_cells <- putamen_all[, putamen_called]"
   ]
  },
  {
   "cell_type": "code",
   "execution_count": 29,
   "metadata": {},
   "outputs": [],
   "source": [
    "sce_putamen <- SingleCellExperiment(list(counts=putamen_cells))"
   ]
  },
  {
   "cell_type": "code",
   "execution_count": 30,
   "metadata": {},
   "outputs": [
    {
     "name": "stdout",
     "output_type": "stream",
     "text": [
      "[1]\ttrain-error:0.074838+0.005341\ttest-error:0.108639+0.014222 \n",
      "Multiple eval metrics are present. Will use test_error for early stopping.\n",
      "Will train until test_error hasn't improved in 2 rounds.\n",
      "\n",
      "[2]\ttrain-error:0.064633+0.006043\ttest-error:0.097624+0.012734 \n",
      "[3]\ttrain-error:0.052754+0.002449\ttest-error:0.084665+0.006572 \n",
      "[4]\ttrain-error:0.050000+0.003846\ttest-error:0.083585+0.007500 \n",
      "[5]\ttrain-error:0.044762+0.002482\ttest-error:0.076674+0.008052 \n",
      "[6]\ttrain-error:0.043359+0.003137\ttest-error:0.077970+0.008942 \n",
      "[7]\ttrain-error:0.040119+0.001475\ttest-error:0.077106+0.008869 \n",
      "Stopping. Best iteration:\n",
      "[5]\ttrain-error:0.044762+0.002482\ttest-error:0.076674+0.008052\n",
      "\n",
      "[1]\ttrain-error:0.069330 \n",
      "Will train until train_error hasn't improved in 2 rounds.\n",
      "\n",
      "[2]\ttrain-error:0.060907 \n",
      "[3]\ttrain-error:0.048812 \n"
     ]
    }
   ],
   "source": [
    "sce_putamen <- cxds_bcds_hybrid(sce_putamen)"
   ]
  },
  {
   "cell_type": "code",
   "execution_count": 31,
   "metadata": {},
   "outputs": [],
   "source": [
    "putamen_numis = colSums(putamen_cells)"
   ]
  },
  {
   "cell_type": "code",
   "execution_count": 32,
   "metadata": {},
   "outputs": [],
   "source": [
    "putamen_annotation =  data.frame(\"cell_id\"=putamen_1@colData@listData$Barcode[putamen_called],\"nUMIs\"=putamen_numis,\"doublet_score\"=colData(sce_putamen)$hybrid_score)"
   ]
  },
  {
   "cell_type": "code",
   "execution_count": 33,
   "metadata": {},
   "outputs": [],
   "source": [
    "putamen_annotation$region = rep(\"putamen\",nrow(putamen_annotation))"
   ]
  },
  {
   "cell_type": "code",
   "execution_count": 34,
   "metadata": {},
   "outputs": [],
   "source": [
    "putamen_df = as.data.frame(as.matrix(putamen_cells))"
   ]
  },
  {
   "cell_type": "code",
   "execution_count": 35,
   "metadata": {},
   "outputs": [],
   "source": [
    "colnames(putamen_df)<- putamen_1@colData@listData$Barcode[putamen_called]"
   ]
  },
  {
   "cell_type": "code",
   "execution_count": 59,
   "metadata": {},
   "outputs": [],
   "source": [
    "putamen_path = \"/pylon5/mc5pijp/mkleyman/data/fiona_rhemac10/processed/putamen/putamen_cells.feather\"\n",
    "write_feather(putamen_df,putamen_path)"
   ]
  },
  {
   "cell_type": "code",
   "execution_count": 60,
   "metadata": {},
   "outputs": [],
   "source": [
    "putamen_annot_path = \"/pylon5/mc5pijp/mkleyman/data/fiona_rhemac10/processed/putamen/putamen_annotation.feather\"\n",
    "write_feather(putamen_annotation,putamen_annot_path)"
   ]
  },
  {
   "cell_type": "code",
   "execution_count": 43,
   "metadata": {},
   "outputs": [],
   "source": [
    "nacc_1 <- read10xCounts(\"/pylon5/mc5pijp/mkleyman/data/fiona_rhemac10/nacc/L1/Solo.out/\")\n",
    "nacc_2 <- read10xCounts(\"/pylon5/mc5pijp/mkleyman/data/fiona_rhemac10/nacc/L2/Solo.out/\")\n",
    "nacc_3 <- read10xCounts(\"/pylon5/mc5pijp/mkleyman/data/fiona_rhemac10/nacc/L3/Solo.out/\")\n",
    "nacc_4 <- read10xCounts(\"/pylon5/mc5pijp/mkleyman/data/fiona_rhemac10/nacc/L4/Solo.out/\")"
   ]
  },
  {
   "cell_type": "code",
   "execution_count": 44,
   "metadata": {},
   "outputs": [],
   "source": [
    "nacc_all <- counts(nacc_1)+counts(nacc_2)+counts(nacc_3)+counts(nacc_4)"
   ]
  },
  {
   "cell_type": "code",
   "execution_count": 45,
   "metadata": {},
   "outputs": [],
   "source": [
    "nacc_called <- defaultDrops(nacc_all)"
   ]
  },
  {
   "cell_type": "code",
   "execution_count": 47,
   "metadata": {},
   "outputs": [],
   "source": [
    "nacc_cells <- nacc_all[, nacc_called]\n"
   ]
  },
  {
   "cell_type": "code",
   "execution_count": 48,
   "metadata": {},
   "outputs": [],
   "source": [
    "sce_nacc <- SingleCellExperiment(list(counts=nacc_cells))"
   ]
  },
  {
   "cell_type": "code",
   "execution_count": 49,
   "metadata": {},
   "outputs": [
    {
     "name": "stdout",
     "output_type": "stream",
     "text": [
      "[1]\ttrain-error:0.080121+0.001642\ttest-error:0.110160+0.006601 \n",
      "Multiple eval metrics are present. Will use test_error for early stopping.\n",
      "Will train until test_error hasn't improved in 2 rounds.\n",
      "\n",
      "[2]\ttrain-error:0.070753+0.000953\ttest-error:0.098501+0.010137 \n",
      "[3]\ttrain-error:0.056626+0.000841\ttest-error:0.087913+0.005720 \n",
      "[4]\ttrain-error:0.053027+0.001722\ttest-error:0.081251+0.006484 \n",
      "[5]\ttrain-error:0.047526+0.001569\ttest-error:0.078039+0.005228 \n",
      "[6]\ttrain-error:0.043272+0.001576\ttest-error:0.074590+0.006633 \n",
      "[7]\ttrain-error:0.039674+0.001267\ttest-error:0.072091+0.008091 \n",
      "[8]\ttrain-error:0.036581+0.000969\ttest-error:0.069355+0.008716 \n",
      "[9]\ttrain-error:0.033845+0.001063\ttest-error:0.068879+0.008196 \n",
      "[10]\ttrain-error:0.031733+0.001486\ttest-error:0.068879+0.006975 \n",
      "[11]\ttrain-error:0.029413+0.001169\ttest-error:0.066500+0.005431 \n",
      "[12]\ttrain-error:0.027005+0.000875\ttest-error:0.066976+0.004904 \n",
      "[13]\ttrain-error:0.023673+0.000589\ttest-error:0.064359+0.004536 \n",
      "[14]\ttrain-error:0.021889+0.000492\ttest-error:0.064359+0.004955 \n",
      "[15]\ttrain-error:0.019837+0.000962\ttest-error:0.062098+0.005799 \n",
      "[16]\ttrain-error:0.018588+0.001525\ttest-error:0.062456+0.005214 \n",
      "[17]\ttrain-error:0.016625+0.001180\ttest-error:0.060433+0.005485 \n",
      "[18]\ttrain-error:0.014989+0.000947\ttest-error:0.059243+0.005484 \n",
      "[19]\ttrain-error:0.013383+0.001621\ttest-error:0.058768+0.005952 \n",
      "[20]\ttrain-error:0.011867+0.001225\ttest-error:0.057578+0.006197 \n",
      "[21]\ttrain-error:0.011153+0.001201\ttest-error:0.057935+0.006651 \n",
      "[22]\ttrain-error:0.009904+0.001131\ttest-error:0.056983+0.006809 \n",
      "[23]\ttrain-error:0.008863+0.000537\ttest-error:0.057221+0.006662 \n",
      "[24]\ttrain-error:0.008060+0.000474\ttest-error:0.056745+0.005406 \n",
      "[25]\ttrain-error:0.007346+0.000943\ttest-error:0.056507+0.005766 \n",
      "[26]\ttrain-error:0.006662+0.000848\ttest-error:0.055556+0.004841 \n",
      "[27]\ttrain-error:0.005918+0.000661\ttest-error:0.055556+0.005031 \n",
      "[28]\ttrain-error:0.005205+0.000672\ttest-error:0.055793+0.005522 \n",
      "Stopping. Best iteration:\n",
      "[26]\ttrain-error:0.006662+0.000848\ttest-error:0.055556+0.004841\n",
      "\n",
      "[1]\ttrain-error:0.083631 \n",
      "Will train until train_error hasn't improved in 2 rounds.\n",
      "\n",
      "[2]\ttrain-error:0.075422 \n",
      "[3]\ttrain-error:0.059005 \n",
      "[4]\ttrain-error:0.055793 \n",
      "[5]\ttrain-error:0.048418 \n",
      "[6]\ttrain-error:0.044849 \n",
      "[7]\ttrain-error:0.040923 \n",
      "[8]\ttrain-error:0.037830 \n",
      "[9]\ttrain-error:0.036046 \n",
      "[10]\ttrain-error:0.035451 \n",
      "[11]\ttrain-error:0.031049 \n",
      "[12]\ttrain-error:0.029146 \n",
      "[13]\ttrain-error:0.028551 \n",
      "[14]\ttrain-error:0.025577 \n",
      "[15]\ttrain-error:0.023674 \n",
      "[16]\ttrain-error:0.020937 \n",
      "[17]\ttrain-error:0.019629 \n",
      "[18]\ttrain-error:0.017488 \n"
     ]
    }
   ],
   "source": [
    "sce_nacc <- cxds_bcds_hybrid(sce_nacc)"
   ]
  },
  {
   "cell_type": "code",
   "execution_count": 50,
   "metadata": {},
   "outputs": [],
   "source": [
    "nacc_numis = colSums(nacc_cells)"
   ]
  },
  {
   "cell_type": "code",
   "execution_count": 51,
   "metadata": {},
   "outputs": [],
   "source": [
    "nacc_annotation =  data.frame(\"cell_id\"=nacc_1@colData@listData$Barcode[nacc_called],\"nUMIs\"=nacc_numis,\"doublet_score\"=colData(sce_nacc)$hybrid_score)"
   ]
  },
  {
   "cell_type": "code",
   "execution_count": 52,
   "metadata": {},
   "outputs": [],
   "source": [
    "nacc_annotation$region = rep(\"nacc\",nrow(nacc_annotation))"
   ]
  },
  {
   "cell_type": "code",
   "execution_count": 53,
   "metadata": {},
   "outputs": [],
   "source": [
    "nacc_df = as.data.frame(as.matrix(nacc_cells))"
   ]
  },
  {
   "cell_type": "code",
   "execution_count": 54,
   "metadata": {},
   "outputs": [],
   "source": [
    "colnames(nacc_df)<- nacc_1@colData@listData$Barcode[nacc_called]"
   ]
  },
  {
   "cell_type": "code",
   "execution_count": 63,
   "metadata": {},
   "outputs": [],
   "source": [
    "nacc_path = \"/pylon5/mc5pijp/mkleyman/data/fiona_rhemac10/processed/nacc/nacc_cells.feather\"\n",
    "write_feather(nacc_df,nacc_path)"
   ]
  },
  {
   "cell_type": "code",
   "execution_count": 65,
   "metadata": {},
   "outputs": [],
   "source": [
    "nacc_path = \"/pylon5/mc5pijp/mkleyman/data/fiona_rhemac10/processed/nacc/nacc_annotation.feather\"\n",
    "write_feather(nacc_annotation,nacc_path)"
   ]
  },
  {
   "cell_type": "code",
   "execution_count": 66,
   "metadata": {},
   "outputs": [
    {
     "ename": "ERROR",
     "evalue": "Error in full_df.columns.duplicated(): could not find function \"full_df.columns.duplicated\"\n",
     "output_type": "error",
     "traceback": [
      "Error in full_df.columns.duplicated(): could not find function \"full_df.columns.duplicated\"\nTraceback:\n"
     ]
    }
   ],
   "source": [
    "full_df.columns.duplicated()\n"
   ]
  },
  {
   "cell_type": "code",
   "execution_count": 1,
   "metadata": {},
   "outputs": [],
   "source": [
    "library(feather)"
   ]
  },
  {
   "cell_type": "raw",
   "metadata": {},
   "source": [
    "nacc_path = \"/pylon5/mc5pijp/mkleyman/data/fiona_rhemac10/processed/nacc/nacc_cells.feather\"\n",
    "\n",
    "nacc_df = read_feather(nacc_path)"
   ]
  },
  {
   "cell_type": "code",
   "execution_count": 2,
   "metadata": {},
   "outputs": [],
   "source": [
    "nacc_path = \"/pylon5/mc5pijp/mkleyman/data/fiona_rhemac10/processed/nacc/nacc_cells.feather\"\n",
    "\n",
    "nacc_df = read_feather(nacc_path)"
   ]
  },
  {
   "cell_type": "code",
   "execution_count": 3,
   "metadata": {},
   "outputs": [
    {
     "data": {
      "text/html": [
       "<ol class=list-inline>\n",
       "\t<li>54894</li>\n",
       "\t<li>4203</li>\n",
       "</ol>\n"
      ],
      "text/latex": [
       "\\begin{enumerate*}\n",
       "\\item 54894\n",
       "\\item 4203\n",
       "\\end{enumerate*}\n"
      ],
      "text/markdown": [
       "1. 54894\n",
       "2. 4203\n",
       "\n",
       "\n"
      ],
      "text/plain": [
       "[1] 54894  4203"
      ]
     },
     "metadata": {},
     "output_type": "display_data"
    }
   ],
   "source": [
    "dim(nacc_df)"
   ]
  },
  {
   "cell_type": "code",
   "execution_count": 10,
   "metadata": {},
   "outputs": [
    {
     "data": {
      "text/html": [
       "<ol class=list-inline>\n",
       "\t<li>54894</li>\n",
       "\t<li>2182</li>\n",
       "</ol>\n"
      ],
      "text/latex": [
       "\\begin{enumerate*}\n",
       "\\item 54894\n",
       "\\item 2182\n",
       "\\end{enumerate*}\n"
      ],
      "text/markdown": [
       "1. 54894\n",
       "2. 2182\n",
       "\n",
       "\n"
      ],
      "text/plain": [
       "[1] 54894  2182"
      ]
     },
     "metadata": {},
     "output_type": "display_data"
    }
   ],
   "source": [
    "dim(caudate_cells)"
   ]
  },
  {
   "cell_type": "code",
   "execution_count": 14,
   "metadata": {},
   "outputs": [],
   "source": [
    "caudate_path = \"/pylon5/mc5pijp/mkleyman/data/fiona_rhemac10/processed/caudate/caudate_cells.feather\"\n",
    "caudate_df = read_feather(caudate_path)"
   ]
  },
  {
   "cell_type": "code",
   "execution_count": 15,
   "metadata": {},
   "outputs": [
    {
     "data": {
      "text/html": [
       "<ol class=list-inline>\n",
       "\t<li>54894</li>\n",
       "\t<li>2182</li>\n",
       "</ol>\n"
      ],
      "text/latex": [
       "\\begin{enumerate*}\n",
       "\\item 54894\n",
       "\\item 2182\n",
       "\\end{enumerate*}\n"
      ],
      "text/markdown": [
       "1. 54894\n",
       "2. 2182\n",
       "\n",
       "\n"
      ],
      "text/plain": [
       "[1] 54894  2182"
      ]
     },
     "metadata": {},
     "output_type": "display_data"
    }
   ],
   "source": [
    "dim(caudate_df)"
   ]
  },
  {
   "cell_type": "code",
   "execution_count": null,
   "metadata": {},
   "outputs": [],
   "source": [
    "putamen_path = \"/pylon5/mc5pijp/mkleyman/data/fiona_rhemac10/processed/putamen/putamen_cells.feather\"\n",
    "puatmen_df = read_feather(putamen_path)"
   ]
  },
  {
   "cell_type": "code",
   "execution_count": null,
   "metadata": {},
   "outputs": [],
   "source": []
  }
 ],
 "metadata": {
  "kernelspec": {
   "display_name": "R",
   "language": "R",
   "name": "ir"
  },
  "language_info": {
   "codemirror_mode": "r",
   "file_extension": ".r",
   "mimetype": "text/x-r-source",
   "name": "R",
   "pygments_lexer": "r",
   "version": "3.6.0"
  }
 },
 "nbformat": 4,
 "nbformat_minor": 2
}
